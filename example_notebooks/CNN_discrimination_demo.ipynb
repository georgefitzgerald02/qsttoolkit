{
  "cells": [
    {
      "cell_type": "markdown",
      "metadata": {
        "id": "Tk-PhMg8Qu71"
      },
      "source": [
        "# Convolutional Neural Network State Discrimination Demo"
      ]
    },
    {
      "cell_type": "markdown",
      "source": [
        "## Install libraries to runtime"
      ],
      "metadata": {
        "id": "Wg2cOJ3MUuy5"
      }
    },
    {
      "cell_type": "markdown",
      "source": [
        "If running in Google Colab, run the following setup cell once each time you open your project in order to install non-default package dependencies to the runtime. DO NOT RUN if you have already created a kernel with `qsttoolkit` as per the setup instructions in `README.md`."
      ],
      "metadata": {
        "id": "irr0BsaGUysv"
      }
    },
    {
      "cell_type": "code",
      "source": [
        "!pip install numpy==1.26.4 pandas==2.2.2 scipy==1.13.1 matplotlib==3.9.2 seaborn==0.13.2 qutip==5.0.4 scikit-learn==1.5.1 tensorflow==2.10.0\n",
        "!pip install -i https://test.pypi.org/simple/ qsttoolkit"
      ],
      "metadata": {
        "id": "peYSYtQRUwY5",
        "outputId": "681cedc0-0c44-450d-f551-84af19faf652",
        "colab": {
          "base_uri": "https://localhost:8080/",
          "height": 1000
        }
      },
      "execution_count": 1,
      "outputs": [
        {
          "output_type": "stream",
          "name": "stdout",
          "text": [
            "Requirement already satisfied: numpy==1.26.4 in /usr/local/lib/python3.10/dist-packages (1.26.4)\n",
            "Requirement already satisfied: pandas==2.2.2 in /usr/local/lib/python3.10/dist-packages (2.2.2)\n",
            "Requirement already satisfied: scipy==1.13.1 in /usr/local/lib/python3.10/dist-packages (1.13.1)\n",
            "Collecting matplotlib==3.9.2\n",
            "  Downloading matplotlib-3.9.2-cp310-cp310-manylinux_2_17_x86_64.manylinux2014_x86_64.whl.metadata (11 kB)\n",
            "Requirement already satisfied: seaborn==0.13.2 in /usr/local/lib/python3.10/dist-packages (0.13.2)\n",
            "Collecting qutip==5.0.4\n",
            "  Downloading qutip-5.0.4-cp310-cp310-manylinux_2_17_x86_64.manylinux2014_x86_64.whl.metadata (9.2 kB)\n",
            "Collecting scikit-learn==1.5.1\n",
            "  Downloading scikit_learn-1.5.1-cp310-cp310-manylinux_2_17_x86_64.manylinux2014_x86_64.whl.metadata (12 kB)\n",
            "Collecting tensorflow==2.10.0\n",
            "  Downloading tensorflow-2.10.0-cp310-cp310-manylinux_2_17_x86_64.manylinux2014_x86_64.whl.metadata (3.1 kB)\n",
            "Requirement already satisfied: python-dateutil>=2.8.2 in /usr/local/lib/python3.10/dist-packages (from pandas==2.2.2) (2.8.2)\n",
            "Requirement already satisfied: pytz>=2020.1 in /usr/local/lib/python3.10/dist-packages (from pandas==2.2.2) (2024.2)\n",
            "Requirement already satisfied: tzdata>=2022.7 in /usr/local/lib/python3.10/dist-packages (from pandas==2.2.2) (2024.2)\n",
            "Requirement already satisfied: contourpy>=1.0.1 in /usr/local/lib/python3.10/dist-packages (from matplotlib==3.9.2) (1.3.1)\n",
            "Requirement already satisfied: cycler>=0.10 in /usr/local/lib/python3.10/dist-packages (from matplotlib==3.9.2) (0.12.1)\n",
            "Requirement already satisfied: fonttools>=4.22.0 in /usr/local/lib/python3.10/dist-packages (from matplotlib==3.9.2) (4.55.3)\n",
            "Requirement already satisfied: kiwisolver>=1.3.1 in /usr/local/lib/python3.10/dist-packages (from matplotlib==3.9.2) (1.4.7)\n",
            "Requirement already satisfied: packaging>=20.0 in /usr/local/lib/python3.10/dist-packages (from matplotlib==3.9.2) (24.2)\n",
            "Requirement already satisfied: pillow>=8 in /usr/local/lib/python3.10/dist-packages (from matplotlib==3.9.2) (11.0.0)\n",
            "Requirement already satisfied: pyparsing>=2.3.1 in /usr/local/lib/python3.10/dist-packages (from matplotlib==3.9.2) (3.2.0)\n",
            "Requirement already satisfied: joblib>=1.2.0 in /usr/local/lib/python3.10/dist-packages (from scikit-learn==1.5.1) (1.4.2)\n",
            "Requirement already satisfied: threadpoolctl>=3.1.0 in /usr/local/lib/python3.10/dist-packages (from scikit-learn==1.5.1) (3.5.0)\n",
            "Requirement already satisfied: absl-py>=1.0.0 in /usr/local/lib/python3.10/dist-packages (from tensorflow==2.10.0) (1.4.0)\n",
            "Requirement already satisfied: astunparse>=1.6.0 in /usr/local/lib/python3.10/dist-packages (from tensorflow==2.10.0) (1.6.3)\n",
            "Requirement already satisfied: flatbuffers>=2.0 in /usr/local/lib/python3.10/dist-packages (from tensorflow==2.10.0) (24.3.25)\n",
            "Collecting gast<=0.4.0,>=0.2.1 (from tensorflow==2.10.0)\n",
            "  Downloading gast-0.4.0-py3-none-any.whl.metadata (1.1 kB)\n",
            "Requirement already satisfied: google-pasta>=0.1.1 in /usr/local/lib/python3.10/dist-packages (from tensorflow==2.10.0) (0.2.0)\n",
            "Requirement already satisfied: grpcio<2.0,>=1.24.3 in /usr/local/lib/python3.10/dist-packages (from tensorflow==2.10.0) (1.68.1)\n",
            "Requirement already satisfied: h5py>=2.9.0 in /usr/local/lib/python3.10/dist-packages (from tensorflow==2.10.0) (3.12.1)\n",
            "Collecting keras<2.11,>=2.10.0 (from tensorflow==2.10.0)\n",
            "  Downloading keras-2.10.0-py2.py3-none-any.whl.metadata (1.3 kB)\n",
            "Collecting keras-preprocessing>=1.1.1 (from tensorflow==2.10.0)\n",
            "  Downloading Keras_Preprocessing-1.1.2-py2.py3-none-any.whl.metadata (1.9 kB)\n",
            "Requirement already satisfied: libclang>=13.0.0 in /usr/local/lib/python3.10/dist-packages (from tensorflow==2.10.0) (18.1.1)\n",
            "Requirement already satisfied: opt-einsum>=2.3.2 in /usr/local/lib/python3.10/dist-packages (from tensorflow==2.10.0) (3.4.0)\n",
            "Collecting protobuf<3.20,>=3.9.2 (from tensorflow==2.10.0)\n",
            "  Downloading protobuf-3.19.6-cp310-cp310-manylinux_2_17_x86_64.manylinux2014_x86_64.whl.metadata (787 bytes)\n",
            "Requirement already satisfied: setuptools in /usr/local/lib/python3.10/dist-packages (from tensorflow==2.10.0) (75.1.0)\n",
            "Requirement already satisfied: six>=1.12.0 in /usr/local/lib/python3.10/dist-packages (from tensorflow==2.10.0) (1.17.0)\n",
            "Collecting tensorboard<2.11,>=2.10 (from tensorflow==2.10.0)\n",
            "  Downloading tensorboard-2.10.1-py3-none-any.whl.metadata (1.9 kB)\n",
            "Requirement already satisfied: tensorflow-io-gcs-filesystem>=0.23.1 in /usr/local/lib/python3.10/dist-packages (from tensorflow==2.10.0) (0.37.1)\n",
            "Collecting tensorflow-estimator<2.11,>=2.10.0 (from tensorflow==2.10.0)\n",
            "  Downloading tensorflow_estimator-2.10.0-py2.py3-none-any.whl.metadata (1.3 kB)\n",
            "Requirement already satisfied: termcolor>=1.1.0 in /usr/local/lib/python3.10/dist-packages (from tensorflow==2.10.0) (2.5.0)\n",
            "Requirement already satisfied: typing-extensions>=3.6.6 in /usr/local/lib/python3.10/dist-packages (from tensorflow==2.10.0) (4.12.2)\n",
            "Requirement already satisfied: wrapt>=1.11.0 in /usr/local/lib/python3.10/dist-packages (from tensorflow==2.10.0) (1.17.0)\n",
            "Requirement already satisfied: wheel<1.0,>=0.23.0 in /usr/local/lib/python3.10/dist-packages (from astunparse>=1.6.0->tensorflow==2.10.0) (0.45.1)\n",
            "Requirement already satisfied: google-auth<3,>=1.6.3 in /usr/local/lib/python3.10/dist-packages (from tensorboard<2.11,>=2.10->tensorflow==2.10.0) (2.27.0)\n",
            "Collecting google-auth-oauthlib<0.5,>=0.4.1 (from tensorboard<2.11,>=2.10->tensorflow==2.10.0)\n",
            "  Downloading google_auth_oauthlib-0.4.6-py2.py3-none-any.whl.metadata (2.7 kB)\n",
            "Requirement already satisfied: markdown>=2.6.8 in /usr/local/lib/python3.10/dist-packages (from tensorboard<2.11,>=2.10->tensorflow==2.10.0) (3.7)\n",
            "Requirement already satisfied: requests<3,>=2.21.0 in /usr/local/lib/python3.10/dist-packages (from tensorboard<2.11,>=2.10->tensorflow==2.10.0) (2.32.3)\n",
            "Collecting tensorboard-data-server<0.7.0,>=0.6.0 (from tensorboard<2.11,>=2.10->tensorflow==2.10.0)\n",
            "  Downloading tensorboard_data_server-0.6.1-py3-none-manylinux2010_x86_64.whl.metadata (1.1 kB)\n",
            "Collecting tensorboard-plugin-wit>=1.6.0 (from tensorboard<2.11,>=2.10->tensorflow==2.10.0)\n",
            "  Downloading tensorboard_plugin_wit-1.8.1-py3-none-any.whl.metadata (873 bytes)\n",
            "Requirement already satisfied: werkzeug>=1.0.1 in /usr/local/lib/python3.10/dist-packages (from tensorboard<2.11,>=2.10->tensorflow==2.10.0) (3.1.3)\n",
            "Requirement already satisfied: cachetools<6.0,>=2.0.0 in /usr/local/lib/python3.10/dist-packages (from google-auth<3,>=1.6.3->tensorboard<2.11,>=2.10->tensorflow==2.10.0) (5.5.0)\n",
            "Requirement already satisfied: pyasn1-modules>=0.2.1 in /usr/local/lib/python3.10/dist-packages (from google-auth<3,>=1.6.3->tensorboard<2.11,>=2.10->tensorflow==2.10.0) (0.4.1)\n",
            "Requirement already satisfied: rsa<5,>=3.1.4 in /usr/local/lib/python3.10/dist-packages (from google-auth<3,>=1.6.3->tensorboard<2.11,>=2.10->tensorflow==2.10.0) (4.9)\n",
            "Requirement already satisfied: requests-oauthlib>=0.7.0 in /usr/local/lib/python3.10/dist-packages (from google-auth-oauthlib<0.5,>=0.4.1->tensorboard<2.11,>=2.10->tensorflow==2.10.0) (1.3.1)\n",
            "Requirement already satisfied: charset-normalizer<4,>=2 in /usr/local/lib/python3.10/dist-packages (from requests<3,>=2.21.0->tensorboard<2.11,>=2.10->tensorflow==2.10.0) (3.4.0)\n",
            "Requirement already satisfied: idna<4,>=2.5 in /usr/local/lib/python3.10/dist-packages (from requests<3,>=2.21.0->tensorboard<2.11,>=2.10->tensorflow==2.10.0) (3.10)\n",
            "Requirement already satisfied: urllib3<3,>=1.21.1 in /usr/local/lib/python3.10/dist-packages (from requests<3,>=2.21.0->tensorboard<2.11,>=2.10->tensorflow==2.10.0) (2.2.3)\n",
            "Requirement already satisfied: certifi>=2017.4.17 in /usr/local/lib/python3.10/dist-packages (from requests<3,>=2.21.0->tensorboard<2.11,>=2.10->tensorflow==2.10.0) (2024.12.14)\n",
            "Requirement already satisfied: MarkupSafe>=2.1.1 in /usr/local/lib/python3.10/dist-packages (from werkzeug>=1.0.1->tensorboard<2.11,>=2.10->tensorflow==2.10.0) (3.0.2)\n",
            "Requirement already satisfied: pyasn1<0.7.0,>=0.4.6 in /usr/local/lib/python3.10/dist-packages (from pyasn1-modules>=0.2.1->google-auth<3,>=1.6.3->tensorboard<2.11,>=2.10->tensorflow==2.10.0) (0.6.1)\n",
            "Requirement already satisfied: oauthlib>=3.0.0 in /usr/local/lib/python3.10/dist-packages (from requests-oauthlib>=0.7.0->google-auth-oauthlib<0.5,>=0.4.1->tensorboard<2.11,>=2.10->tensorflow==2.10.0) (3.2.2)\n",
            "Downloading matplotlib-3.9.2-cp310-cp310-manylinux_2_17_x86_64.manylinux2014_x86_64.whl (8.3 MB)\n",
            "\u001b[2K   \u001b[90m━━━━━━━━━━━━━━━━━━━━━━━━━━━━━━━━━━━━━━━━\u001b[0m \u001b[32m8.3/8.3 MB\u001b[0m \u001b[31m75.0 MB/s\u001b[0m eta \u001b[36m0:00:00\u001b[0m\n",
            "\u001b[?25hDownloading qutip-5.0.4-cp310-cp310-manylinux_2_17_x86_64.manylinux2014_x86_64.whl (28.0 MB)\n",
            "\u001b[2K   \u001b[90m━━━━━━━━━━━━━━━━━━━━━━━━━━━━━━━━━━━━━━━━\u001b[0m \u001b[32m28.0/28.0 MB\u001b[0m \u001b[31m56.4 MB/s\u001b[0m eta \u001b[36m0:00:00\u001b[0m\n",
            "\u001b[?25hDownloading scikit_learn-1.5.1-cp310-cp310-manylinux_2_17_x86_64.manylinux2014_x86_64.whl (13.4 MB)\n",
            "\u001b[2K   \u001b[90m━━━━━━━━━━━━━━━━━━━━━━━━━━━━━━━━━━━━━━━━\u001b[0m \u001b[32m13.4/13.4 MB\u001b[0m \u001b[31m75.1 MB/s\u001b[0m eta \u001b[36m0:00:00\u001b[0m\n",
            "\u001b[?25hDownloading tensorflow-2.10.0-cp310-cp310-manylinux_2_17_x86_64.manylinux2014_x86_64.whl (578.0 MB)\n",
            "\u001b[2K   \u001b[90m━━━━━━━━━━━━━━━━━━━━━━━━━━━━━━━━━━━━━━━━\u001b[0m \u001b[32m578.0/578.0 MB\u001b[0m \u001b[31m2.9 MB/s\u001b[0m eta \u001b[36m0:00:00\u001b[0m\n",
            "\u001b[?25hDownloading gast-0.4.0-py3-none-any.whl (9.8 kB)\n",
            "Downloading keras-2.10.0-py2.py3-none-any.whl (1.7 MB)\n",
            "\u001b[2K   \u001b[90m━━━━━━━━━━━━━━━━━━━━━━━━━━━━━━━━━━━━━━━━\u001b[0m \u001b[32m1.7/1.7 MB\u001b[0m \u001b[31m40.4 MB/s\u001b[0m eta \u001b[36m0:00:00\u001b[0m\n",
            "\u001b[?25hDownloading Keras_Preprocessing-1.1.2-py2.py3-none-any.whl (42 kB)\n",
            "\u001b[2K   \u001b[90m━━━━━━━━━━━━━━━━━━━━━━━━━━━━━━━━━━━━━━━━\u001b[0m \u001b[32m42.6/42.6 kB\u001b[0m \u001b[31m2.7 MB/s\u001b[0m eta \u001b[36m0:00:00\u001b[0m\n",
            "\u001b[?25hDownloading protobuf-3.19.6-cp310-cp310-manylinux_2_17_x86_64.manylinux2014_x86_64.whl (1.1 MB)\n",
            "\u001b[2K   \u001b[90m━━━━━━━━━━━━━━━━━━━━━━━━━━━━━━━━━━━━━━━━\u001b[0m \u001b[32m1.1/1.1 MB\u001b[0m \u001b[31m34.1 MB/s\u001b[0m eta \u001b[36m0:00:00\u001b[0m\n",
            "\u001b[?25hDownloading tensorboard-2.10.1-py3-none-any.whl (5.9 MB)\n",
            "\u001b[2K   \u001b[90m━━━━━━━━━━━━━━━━━━━━━━━━━━━━━━━━━━━━━━━━\u001b[0m \u001b[32m5.9/5.9 MB\u001b[0m \u001b[31m57.5 MB/s\u001b[0m eta \u001b[36m0:00:00\u001b[0m\n",
            "\u001b[?25hDownloading tensorflow_estimator-2.10.0-py2.py3-none-any.whl (438 kB)\n",
            "\u001b[2K   \u001b[90m━━━━━━━━━━━━━━━━━━━━━━━━━━━━━━━━━━━━━━━━\u001b[0m \u001b[32m438.7/438.7 kB\u001b[0m \u001b[31m22.7 MB/s\u001b[0m eta \u001b[36m0:00:00\u001b[0m\n",
            "\u001b[?25hDownloading google_auth_oauthlib-0.4.6-py2.py3-none-any.whl (18 kB)\n",
            "Downloading tensorboard_data_server-0.6.1-py3-none-manylinux2010_x86_64.whl (4.9 MB)\n",
            "\u001b[2K   \u001b[90m━━━━━━━━━━━━━━━━━━━━━━━━━━━━━━━━━━━━━━━━\u001b[0m \u001b[32m4.9/4.9 MB\u001b[0m \u001b[31m60.9 MB/s\u001b[0m eta \u001b[36m0:00:00\u001b[0m\n",
            "\u001b[?25hDownloading tensorboard_plugin_wit-1.8.1-py3-none-any.whl (781 kB)\n",
            "\u001b[2K   \u001b[90m━━━━━━━━━━━━━━━━━━━━━━━━━━━━━━━━━━━━━━━━\u001b[0m \u001b[32m781.3/781.3 kB\u001b[0m \u001b[31m38.0 MB/s\u001b[0m eta \u001b[36m0:00:00\u001b[0m\n",
            "\u001b[?25hInstalling collected packages: tensorboard-plugin-wit, keras, tensorflow-estimator, tensorboard-data-server, protobuf, keras-preprocessing, gast, scikit-learn, qutip, matplotlib, google-auth-oauthlib, tensorboard, tensorflow\n",
            "  Attempting uninstall: keras\n",
            "    Found existing installation: keras 3.5.0\n",
            "    Uninstalling keras-3.5.0:\n",
            "      Successfully uninstalled keras-3.5.0\n",
            "  Attempting uninstall: tensorboard-data-server\n",
            "    Found existing installation: tensorboard-data-server 0.7.2\n",
            "    Uninstalling tensorboard-data-server-0.7.2:\n",
            "      Successfully uninstalled tensorboard-data-server-0.7.2\n",
            "  Attempting uninstall: protobuf\n",
            "    Found existing installation: protobuf 4.25.5\n",
            "    Uninstalling protobuf-4.25.5:\n",
            "      Successfully uninstalled protobuf-4.25.5\n",
            "  Attempting uninstall: gast\n",
            "    Found existing installation: gast 0.6.0\n",
            "    Uninstalling gast-0.6.0:\n",
            "      Successfully uninstalled gast-0.6.0\n",
            "  Attempting uninstall: scikit-learn\n",
            "    Found existing installation: scikit-learn 1.6.0\n",
            "    Uninstalling scikit-learn-1.6.0:\n",
            "      Successfully uninstalled scikit-learn-1.6.0\n",
            "  Attempting uninstall: matplotlib\n",
            "    Found existing installation: matplotlib 3.8.0\n",
            "    Uninstalling matplotlib-3.8.0:\n",
            "      Successfully uninstalled matplotlib-3.8.0\n",
            "  Attempting uninstall: google-auth-oauthlib\n",
            "    Found existing installation: google-auth-oauthlib 1.2.1\n",
            "    Uninstalling google-auth-oauthlib-1.2.1:\n",
            "      Successfully uninstalled google-auth-oauthlib-1.2.1\n",
            "  Attempting uninstall: tensorboard\n",
            "    Found existing installation: tensorboard 2.17.1\n",
            "    Uninstalling tensorboard-2.17.1:\n",
            "      Successfully uninstalled tensorboard-2.17.1\n",
            "  Attempting uninstall: tensorflow\n",
            "    Found existing installation: tensorflow 2.17.1\n",
            "    Uninstalling tensorflow-2.17.1:\n",
            "      Successfully uninstalled tensorflow-2.17.1\n",
            "\u001b[31mERROR: pip's dependency resolver does not currently take into account all the packages that are installed. This behaviour is the source of the following dependency conflicts.\n",
            "google-ai-generativelanguage 0.6.10 requires protobuf!=4.21.0,!=4.21.1,!=4.21.2,!=4.21.3,!=4.21.4,!=4.21.5,<6.0.0dev,>=3.20.2, but you have protobuf 3.19.6 which is incompatible.\n",
            "google-cloud-aiplatform 1.74.0 requires protobuf!=4.21.0,!=4.21.1,!=4.21.2,!=4.21.3,!=4.21.4,!=4.21.5,<6.0.0dev,>=3.20.2, but you have protobuf 3.19.6 which is incompatible.\n",
            "google-cloud-bigquery-connection 1.17.0 requires protobuf!=4.21.0,!=4.21.1,!=4.21.2,!=4.21.3,!=4.21.4,!=4.21.5,<6.0.0dev,>=3.20.2, but you have protobuf 3.19.6 which is incompatible.\n",
            "google-cloud-bigquery-storage 2.27.0 requires protobuf!=3.20.0,!=3.20.1,!=4.21.0,!=4.21.1,!=4.21.2,!=4.21.3,!=4.21.4,!=4.21.5,<6.0.0dev,>=3.20.2, but you have protobuf 3.19.6 which is incompatible.\n",
            "google-cloud-bigtable 2.27.0 requires protobuf!=4.21.0,!=4.21.1,!=4.21.2,!=4.21.3,!=4.21.4,!=4.21.5,<6.0.0dev,>=3.20.2, but you have protobuf 3.19.6 which is incompatible.\n",
            "google-cloud-datastore 2.20.2 requires protobuf!=3.20.0,!=3.20.1,!=4.21.0,!=4.21.1,!=4.21.2,!=4.21.3,!=4.21.4,!=4.21.5,<6.0.0dev,>=3.20.2, but you have protobuf 3.19.6 which is incompatible.\n",
            "google-cloud-firestore 2.19.0 requires protobuf!=3.20.0,!=3.20.1,!=4.21.0,!=4.21.1,!=4.21.2,!=4.21.3,!=4.21.4,!=4.21.5,<6.0.0dev,>=3.20.2, but you have protobuf 3.19.6 which is incompatible.\n",
            "google-cloud-functions 1.19.0 requires protobuf!=4.21.0,!=4.21.1,!=4.21.2,!=4.21.3,!=4.21.4,!=4.21.5,<6.0.0dev,>=3.20.2, but you have protobuf 3.19.6 which is incompatible.\n",
            "google-cloud-iam 2.17.0 requires protobuf!=4.21.0,!=4.21.1,!=4.21.2,!=4.21.3,!=4.21.4,!=4.21.5,<6.0.0dev,>=3.20.2, but you have protobuf 3.19.6 which is incompatible.\n",
            "google-cloud-language 2.16.0 requires protobuf!=4.21.0,!=4.21.1,!=4.21.2,!=4.21.3,!=4.21.4,!=4.21.5,<6.0.0dev,>=3.20.2, but you have protobuf 3.19.6 which is incompatible.\n",
            "google-cloud-pubsub 2.27.1 requires protobuf!=4.21.0,!=4.21.1,!=4.21.2,!=4.21.3,!=4.21.4,!=4.21.5,<6.0.0dev,>=3.20.2, but you have protobuf 3.19.6 which is incompatible.\n",
            "google-cloud-resource-manager 1.14.0 requires protobuf!=4.21.0,!=4.21.1,!=4.21.2,!=4.21.3,!=4.21.4,!=4.21.5,<6.0.0dev,>=3.20.2, but you have protobuf 3.19.6 which is incompatible.\n",
            "google-cloud-translate 3.19.0 requires protobuf!=4.21.0,!=4.21.1,!=4.21.2,!=4.21.3,!=4.21.4,!=4.21.5,<6.0.0dev,>=3.20.2, but you have protobuf 3.19.6 which is incompatible.\n",
            "googleapis-common-protos 1.66.0 requires protobuf!=3.20.0,!=3.20.1,!=4.21.1,!=4.21.2,!=4.21.3,!=4.21.4,!=4.21.5,<6.0.0.dev0,>=3.20.2, but you have protobuf 3.19.6 which is incompatible.\n",
            "grpc-google-iam-v1 0.13.1 requires protobuf!=4.21.1,!=4.21.2,!=4.21.3,!=4.21.4,!=4.21.5,<6.0.0dev,>=3.20.2, but you have protobuf 3.19.6 which is incompatible.\n",
            "grpcio-status 1.62.3 requires protobuf>=4.21.6, but you have protobuf 3.19.6 which is incompatible.\n",
            "pandas-gbq 0.25.0 requires google-auth-oauthlib>=0.7.0, but you have google-auth-oauthlib 0.4.6 which is incompatible.\n",
            "tensorflow-datasets 4.9.7 requires protobuf>=3.20, but you have protobuf 3.19.6 which is incompatible.\n",
            "tensorflow-metadata 1.13.1 requires protobuf<5,>=3.20.3, but you have protobuf 3.19.6 which is incompatible.\n",
            "tf-keras 2.17.0 requires tensorflow<2.18,>=2.17, but you have tensorflow 2.10.0 which is incompatible.\u001b[0m\u001b[31m\n",
            "\u001b[0mSuccessfully installed gast-0.4.0 google-auth-oauthlib-0.4.6 keras-2.10.0 keras-preprocessing-1.1.2 matplotlib-3.9.2 protobuf-3.19.6 qutip-5.0.4 scikit-learn-1.5.1 tensorboard-2.10.1 tensorboard-data-server-0.6.1 tensorboard-plugin-wit-1.8.1 tensorflow-2.10.0 tensorflow-estimator-2.10.0\n"
          ]
        },
        {
          "output_type": "display_data",
          "data": {
            "application/vnd.colab-display-data+json": {
              "pip_warning": {
                "packages": [
                  "google"
                ]
              },
              "id": "62a52b1d8fe048d883526022c17482cb"
            }
          },
          "metadata": {}
        },
        {
          "output_type": "stream",
          "name": "stdout",
          "text": [
            "Looking in indexes: https://test.pypi.org/simple/\n",
            "Collecting qsttoolkit\n",
            "  Downloading https://test-files.pythonhosted.org/packages/5f/8a/5198ab305f146a1eb8db9a8f0b570ee3fd772f49da6f435c13e32ebb3396/qsttoolkit-0.2.2-py3-none-any.whl.metadata (10 kB)\n",
            "Requirement already satisfied: numpy==1.26.4 in /usr/local/lib/python3.10/dist-packages (from qsttoolkit) (1.26.4)\n",
            "Requirement already satisfied: pandas==2.2.2 in /usr/local/lib/python3.10/dist-packages (from qsttoolkit) (2.2.2)\n",
            "Requirement already satisfied: scipy==1.13.1 in /usr/local/lib/python3.10/dist-packages (from qsttoolkit) (1.13.1)\n",
            "Requirement already satisfied: matplotlib==3.9.2 in /usr/local/lib/python3.10/dist-packages (from qsttoolkit) (3.9.2)\n",
            "Requirement already satisfied: seaborn==0.13.2 in /usr/local/lib/python3.10/dist-packages (from qsttoolkit) (0.13.2)\n",
            "Requirement already satisfied: qutip==5.0.4 in /usr/local/lib/python3.10/dist-packages (from qsttoolkit) (5.0.4)\n",
            "Requirement already satisfied: scikit-learn==1.5.1 in /usr/local/lib/python3.10/dist-packages (from qsttoolkit) (1.5.1)\n",
            "Requirement already satisfied: tensorflow==2.10.0 in /usr/local/lib/python3.10/dist-packages (from qsttoolkit) (2.10.0)\n",
            "Requirement already satisfied: contourpy>=1.0.1 in /usr/local/lib/python3.10/dist-packages (from matplotlib==3.9.2->qsttoolkit) (1.3.1)\n",
            "Requirement already satisfied: cycler>=0.10 in /usr/local/lib/python3.10/dist-packages (from matplotlib==3.9.2->qsttoolkit) (0.12.1)\n",
            "Requirement already satisfied: fonttools>=4.22.0 in /usr/local/lib/python3.10/dist-packages (from matplotlib==3.9.2->qsttoolkit) (4.55.3)\n",
            "Requirement already satisfied: kiwisolver>=1.3.1 in /usr/local/lib/python3.10/dist-packages (from matplotlib==3.9.2->qsttoolkit) (1.4.7)\n",
            "Requirement already satisfied: packaging>=20.0 in /usr/local/lib/python3.10/dist-packages (from matplotlib==3.9.2->qsttoolkit) (24.2)\n",
            "Requirement already satisfied: pillow>=8 in /usr/local/lib/python3.10/dist-packages (from matplotlib==3.9.2->qsttoolkit) (11.0.0)\n",
            "Requirement already satisfied: pyparsing>=2.3.1 in /usr/local/lib/python3.10/dist-packages (from matplotlib==3.9.2->qsttoolkit) (3.2.0)\n",
            "Requirement already satisfied: python-dateutil>=2.7 in /usr/local/lib/python3.10/dist-packages (from matplotlib==3.9.2->qsttoolkit) (2.8.2)\n",
            "Requirement already satisfied: pytz>=2020.1 in /usr/local/lib/python3.10/dist-packages (from pandas==2.2.2->qsttoolkit) (2024.2)\n",
            "Requirement already satisfied: tzdata>=2022.7 in /usr/local/lib/python3.10/dist-packages (from pandas==2.2.2->qsttoolkit) (2024.2)\n",
            "Requirement already satisfied: joblib>=1.2.0 in /usr/local/lib/python3.10/dist-packages (from scikit-learn==1.5.1->qsttoolkit) (1.4.2)\n",
            "Requirement already satisfied: threadpoolctl>=3.1.0 in /usr/local/lib/python3.10/dist-packages (from scikit-learn==1.5.1->qsttoolkit) (3.5.0)\n",
            "Requirement already satisfied: absl-py>=1.0.0 in /usr/local/lib/python3.10/dist-packages (from tensorflow==2.10.0->qsttoolkit) (1.4.0)\n",
            "Requirement already satisfied: astunparse>=1.6.0 in /usr/local/lib/python3.10/dist-packages (from tensorflow==2.10.0->qsttoolkit) (1.6.3)\n",
            "Requirement already satisfied: flatbuffers>=2.0 in /usr/local/lib/python3.10/dist-packages (from tensorflow==2.10.0->qsttoolkit) (24.3.25)\n",
            "Requirement already satisfied: gast<=0.4.0,>=0.2.1 in /usr/local/lib/python3.10/dist-packages (from tensorflow==2.10.0->qsttoolkit) (0.4.0)\n",
            "Requirement already satisfied: google-pasta>=0.1.1 in /usr/local/lib/python3.10/dist-packages (from tensorflow==2.10.0->qsttoolkit) (0.2.0)\n",
            "Requirement already satisfied: grpcio<2.0,>=1.24.3 in /usr/local/lib/python3.10/dist-packages (from tensorflow==2.10.0->qsttoolkit) (1.68.1)\n",
            "Requirement already satisfied: h5py>=2.9.0 in /usr/local/lib/python3.10/dist-packages (from tensorflow==2.10.0->qsttoolkit) (3.12.1)\n",
            "Requirement already satisfied: keras<2.11,>=2.10.0 in /usr/local/lib/python3.10/dist-packages (from tensorflow==2.10.0->qsttoolkit) (2.10.0)\n",
            "Requirement already satisfied: keras-preprocessing>=1.1.1 in /usr/local/lib/python3.10/dist-packages (from tensorflow==2.10.0->qsttoolkit) (1.1.2)\n",
            "Requirement already satisfied: libclang>=13.0.0 in /usr/local/lib/python3.10/dist-packages (from tensorflow==2.10.0->qsttoolkit) (18.1.1)\n",
            "Requirement already satisfied: opt-einsum>=2.3.2 in /usr/local/lib/python3.10/dist-packages (from tensorflow==2.10.0->qsttoolkit) (3.4.0)\n",
            "Requirement already satisfied: protobuf<3.20,>=3.9.2 in /usr/local/lib/python3.10/dist-packages (from tensorflow==2.10.0->qsttoolkit) (3.19.6)\n",
            "Requirement already satisfied: setuptools in /usr/local/lib/python3.10/dist-packages (from tensorflow==2.10.0->qsttoolkit) (75.1.0)\n",
            "Requirement already satisfied: six>=1.12.0 in /usr/local/lib/python3.10/dist-packages (from tensorflow==2.10.0->qsttoolkit) (1.17.0)\n",
            "Requirement already satisfied: tensorboard<2.11,>=2.10 in /usr/local/lib/python3.10/dist-packages (from tensorflow==2.10.0->qsttoolkit) (2.10.1)\n",
            "Requirement already satisfied: tensorflow-io-gcs-filesystem>=0.23.1 in /usr/local/lib/python3.10/dist-packages (from tensorflow==2.10.0->qsttoolkit) (0.37.1)\n",
            "Requirement already satisfied: tensorflow-estimator<2.11,>=2.10.0 in /usr/local/lib/python3.10/dist-packages (from tensorflow==2.10.0->qsttoolkit) (2.10.0)\n",
            "Requirement already satisfied: termcolor>=1.1.0 in /usr/local/lib/python3.10/dist-packages (from tensorflow==2.10.0->qsttoolkit) (2.5.0)\n",
            "Requirement already satisfied: typing-extensions>=3.6.6 in /usr/local/lib/python3.10/dist-packages (from tensorflow==2.10.0->qsttoolkit) (4.12.2)\n",
            "Requirement already satisfied: wrapt>=1.11.0 in /usr/local/lib/python3.10/dist-packages (from tensorflow==2.10.0->qsttoolkit) (1.17.0)\n",
            "Requirement already satisfied: wheel<1.0,>=0.23.0 in /usr/local/lib/python3.10/dist-packages (from astunparse>=1.6.0->tensorflow==2.10.0->qsttoolkit) (0.45.1)\n",
            "Requirement already satisfied: google-auth<3,>=1.6.3 in /usr/local/lib/python3.10/dist-packages (from tensorboard<2.11,>=2.10->tensorflow==2.10.0->qsttoolkit) (2.27.0)\n",
            "Requirement already satisfied: google-auth-oauthlib<0.5,>=0.4.1 in /usr/local/lib/python3.10/dist-packages (from tensorboard<2.11,>=2.10->tensorflow==2.10.0->qsttoolkit) (0.4.6)\n",
            "Requirement already satisfied: markdown>=2.6.8 in /usr/local/lib/python3.10/dist-packages (from tensorboard<2.11,>=2.10->tensorflow==2.10.0->qsttoolkit) (3.7)\n",
            "Requirement already satisfied: requests<3,>=2.21.0 in /usr/local/lib/python3.10/dist-packages (from tensorboard<2.11,>=2.10->tensorflow==2.10.0->qsttoolkit) (2.32.3)\n",
            "Requirement already satisfied: tensorboard-data-server<0.7.0,>=0.6.0 in /usr/local/lib/python3.10/dist-packages (from tensorboard<2.11,>=2.10->tensorflow==2.10.0->qsttoolkit) (0.6.1)\n",
            "Requirement already satisfied: tensorboard-plugin-wit>=1.6.0 in /usr/local/lib/python3.10/dist-packages (from tensorboard<2.11,>=2.10->tensorflow==2.10.0->qsttoolkit) (1.8.1)\n",
            "Requirement already satisfied: werkzeug>=1.0.1 in /usr/local/lib/python3.10/dist-packages (from tensorboard<2.11,>=2.10->tensorflow==2.10.0->qsttoolkit) (3.1.3)\n",
            "Requirement already satisfied: cachetools<6.0,>=2.0.0 in /usr/local/lib/python3.10/dist-packages (from google-auth<3,>=1.6.3->tensorboard<2.11,>=2.10->tensorflow==2.10.0->qsttoolkit) (5.5.0)\n",
            "Requirement already satisfied: pyasn1-modules>=0.2.1 in /usr/local/lib/python3.10/dist-packages (from google-auth<3,>=1.6.3->tensorboard<2.11,>=2.10->tensorflow==2.10.0->qsttoolkit) (0.4.1)\n",
            "Requirement already satisfied: rsa<5,>=3.1.4 in /usr/local/lib/python3.10/dist-packages (from google-auth<3,>=1.6.3->tensorboard<2.11,>=2.10->tensorflow==2.10.0->qsttoolkit) (4.9)\n",
            "Requirement already satisfied: requests-oauthlib>=0.7.0 in /usr/local/lib/python3.10/dist-packages (from google-auth-oauthlib<0.5,>=0.4.1->tensorboard<2.11,>=2.10->tensorflow==2.10.0->qsttoolkit) (1.3.1)\n",
            "Requirement already satisfied: charset-normalizer<4,>=2 in /usr/local/lib/python3.10/dist-packages (from requests<3,>=2.21.0->tensorboard<2.11,>=2.10->tensorflow==2.10.0->qsttoolkit) (3.4.0)\n",
            "Requirement already satisfied: idna<4,>=2.5 in /usr/local/lib/python3.10/dist-packages (from requests<3,>=2.21.0->tensorboard<2.11,>=2.10->tensorflow==2.10.0->qsttoolkit) (3.10)\n",
            "Requirement already satisfied: urllib3<3,>=1.21.1 in /usr/local/lib/python3.10/dist-packages (from requests<3,>=2.21.0->tensorboard<2.11,>=2.10->tensorflow==2.10.0->qsttoolkit) (2.2.3)\n",
            "Requirement already satisfied: certifi>=2017.4.17 in /usr/local/lib/python3.10/dist-packages (from requests<3,>=2.21.0->tensorboard<2.11,>=2.10->tensorflow==2.10.0->qsttoolkit) (2024.12.14)\n",
            "Requirement already satisfied: MarkupSafe>=2.1.1 in /usr/local/lib/python3.10/dist-packages (from werkzeug>=1.0.1->tensorboard<2.11,>=2.10->tensorflow==2.10.0->qsttoolkit) (3.0.2)\n",
            "Requirement already satisfied: pyasn1<0.7.0,>=0.4.6 in /usr/local/lib/python3.10/dist-packages (from pyasn1-modules>=0.2.1->google-auth<3,>=1.6.3->tensorboard<2.11,>=2.10->tensorflow==2.10.0->qsttoolkit) (0.6.1)\n",
            "Requirement already satisfied: oauthlib>=3.0.0 in /usr/local/lib/python3.10/dist-packages (from requests-oauthlib>=0.7.0->google-auth-oauthlib<0.5,>=0.4.1->tensorboard<2.11,>=2.10->tensorflow==2.10.0->qsttoolkit) (3.2.2)\n",
            "Downloading https://test-files.pythonhosted.org/packages/5f/8a/5198ab305f146a1eb8db9a8f0b570ee3fd772f49da6f435c13e32ebb3396/qsttoolkit-0.2.2-py3-none-any.whl (35 kB)\n",
            "Installing collected packages: qsttoolkit\n",
            "Successfully installed qsttoolkit-0.2.2\n"
          ]
        }
      ]
    },
    {
      "cell_type": "markdown",
      "source": [
        "## Imports"
      ],
      "metadata": {
        "id": "W3zsSpBsU58w"
      }
    },
    {
      "cell_type": "markdown",
      "source": [
        "All of QSTToolkit's features can be accessed by importing `qsttoolkit` and calling them directly. Most features sit within two main subpackages: `.data` and `.tomography`. In this example notebook, functions are called from their subpackage where relevant to show which features sit in each subpackage, and which lie in modules outside either:"
      ],
      "metadata": {
        "id": "gSAMR2k8U7l_"
      }
    },
    {
      "cell_type": "code",
      "source": [
        "import numpy as np\n",
        "import pandas as pd\n",
        "from sklearn.model_selection import train_test_split\n",
        "from sklearn.preprocessing import LabelEncoder\n",
        "import seaborn as sns\n",
        "import matplotlib.pyplot as plt\n",
        "import qutip as qt\n",
        "import qsttoolkit as qst"
      ],
      "metadata": {
        "id": "w9yNYUK2U-5C"
      },
      "execution_count": 2,
      "outputs": []
    },
    {
      "cell_type": "markdown",
      "metadata": {
        "id": "HwDzKAuUQu7-"
      },
      "source": [
        "## Data Preparation"
      ]
    },
    {
      "cell_type": "markdown",
      "source": [
        "We first create batches of optical quantum state vectors of seven different varieties. `qsttoolkit.data` provides classes to produce such batches, each state with randomised parameters within given limits, based on the [QuTiP](https://qutip.org/docs/4.0.2/index.html) framework:"
      ],
      "metadata": {
        "id": "U7_LmAneXVlw"
      }
    },
    {
      "cell_type": "code",
      "source": [
        "dim = 32\n",
        "\n",
        "fock_batch = qst.data.FockStates(n_states = 1000,\n",
        "                                 N = dim,\n",
        "                                 n_range = [0, dim])\n",
        "coherent_batch = qst.data.CoherentStates(n_states = 1000,\n",
        "                                         N = dim,\n",
        "                                         alpha_magnitude_range = [1e-6, 3])\n",
        "thermal_batch = qst.data.ThermalStates(n_states = 1000,\n",
        "                                       N = dim,\n",
        "                                       nbar_range = [0, dim])\n",
        "num_batch = qst.data.NumStates(n_states = 1000,\n",
        "                               N = dim,\n",
        "                               types = ['17', 'M', 'P', 'P2', 'M2'])\n",
        "binomial_batch = qst.data.BinomialStates(n_states = 1000,\n",
        "                                         N = dim,\n",
        "                                         S_range = [1, 10],\n",
        "                                         mu_range = [0, 2])\n",
        "cat_batch = qst.data.CatStates(n_states = 1000,\n",
        "                               N = dim,\n",
        "                               alpha_magnitude_range = [0, 10])\n",
        "random_batch = qst.data.RandomStates(n_states = 1000,\n",
        "                                     N = dim)\n",
        "print('States generated')"
      ],
      "metadata": {
        "id": "Go_-caeqVMTZ",
        "outputId": "f86ac529-96de-40ae-ce52-72de519b408b",
        "colab": {
          "base_uri": "https://localhost:8080/"
        }
      },
      "execution_count": 3,
      "outputs": [
        {
          "output_type": "stream",
          "name": "stderr",
          "text": [
            "/usr/local/lib/python3.10/dist-packages/qsttoolkit/data/state_batches.py:149: UserWarning: thermal states are currently initialised as density matrices. Calling the product of the .density_matrices() method is equivalent to simply calling .states() attribute. This may change in the future.\n",
            "  warnings.warn(\"thermal states are currently initialised as density matrices. Calling the product of the .density_matrices() method is equivalent to simply calling .states() attribute. This may change in the future.\")\n"
          ]
        },
        {
          "output_type": "stream",
          "name": "stdout",
          "text": [
            "States generated\n"
          ]
        },
        {
          "output_type": "stream",
          "name": "stderr",
          "text": [
            "/usr/local/lib/python3.10/dist-packages/qsttoolkit/data/state_batches.py:333: UserWarning: Random states are currently initialised as density matrices. Calling the product of the .density_matrices() method is equivalent to simply calling .states() attribute. This may change in the future.\n",
            "  warnings.warn(\"Random states are currently initialised as density matrices. Calling the product of the .density_matrices() method is equivalent to simply calling .states() attribute. This may change in the future.\")\n"
          ]
        }
      ]
    },
    {
      "cell_type": "markdown",
      "source": [
        "Parameters for noise sources that are applied to the density matrix and Husimi-Q representation:"
      ],
      "metadata": {
        "id": "lHou6oI5ZPhA"
      }
    },
    {
      "cell_type": "code",
      "source": [
        "mixed_state_noise_noise_level = 0.3   # Mixed state noise coefficient\n",
        "affine_theta = 30                     # Maximum affine transformation theta\n",
        "affine_x = 0.1                        # Maximum affine transformation x shift\n",
        "affine_y = 0.1                        # Maximum affine transformation y shift\n",
        "additive_Gaussian_stddev = 0.01       # Additive Gaussian noise distribution standard deviation\n",
        "salt_and_pepper_prob = 0.1            # Salt and pepper noise pixel cutout probability"
      ],
      "metadata": {
        "id": "-bfwmyYrVrE_"
      },
      "execution_count": 4,
      "outputs": []
    },
    {
      "cell_type": "markdown",
      "source": [
        "We initialise the Husimi-Q phase space before creating measurement data:"
      ],
      "metadata": {
        "id": "Rr9ODtv-bey9"
      }
    },
    {
      "cell_type": "code",
      "source": [
        "latent_dim = 32\n",
        "xgrid = np.linspace(-5, 5, latent_dim)\n",
        "pgrid = np.linspace(-5, 5, latent_dim)"
      ],
      "metadata": {
        "id": "JPwwrSRpWJrW"
      },
      "execution_count": 5,
      "outputs": []
    },
    {
      "cell_type": "markdown",
      "source": [
        "We then create density matrices and Husimi-Q measurement images, applying mixed state noise using `qsttoolkit.data.mixed_state_noise()` and measurement noise using `qsttoolkit.data.apply_measurement_noise()`:"
      ],
      "metadata": {
        "id": "Xlu8XqoNbzB6"
      }
    },
    {
      "cell_type": "code",
      "source": [
        "fock_data = pd.DataFrame(columns=['label', 'density_matrix', 'Husimi-Q_function', 'state_parameter'])\n",
        "coherent_data = pd.DataFrame(columns=['label', 'density_matrix', 'Husimi-Q_function', 'state_parameter'])\n",
        "thermal_data = pd.DataFrame(columns=['label', 'density_matrix', 'Husimi-Q_function', 'state_parameter'])\n",
        "num_data = pd.DataFrame(columns=['label', 'density_matrix', 'Husimi-Q_function', 'state_parameter'])\n",
        "binomial_data = pd.DataFrame(columns=['label', 'density_matrix', 'Husimi-Q_function', 'state_parameter'])\n",
        "cat_data = pd.DataFrame(columns=['label', 'density_matrix', 'Husimi-Q_function', 'state_parameter'])\n",
        "random_data = pd.DataFrame(columns=['label', 'density_matrix', 'Husimi-Q_function', 'state_parameter'])\n",
        "print(\"DataFrames initialised\")\n",
        "\n",
        "fock_densities = [qst.data.mixed_state_noise(dm, mixed_state_noise_noise_level) for dm in fock_batch.density_matrices()]\n",
        "fock_data['label'] = ['fock']*len(fock_densities)\n",
        "fock_data['density_matrix'] = [dm.full() for dm in fock_densities]\n",
        "fock_data['Husimi-Q_function'] = [qst.data.apply_measurement_noise(qt.qfunc(dm, xgrid, pgrid), affine_theta, affine_x, affine_y, additive_Gaussian_stddev, salt_and_pepper_prob) for dm in fock_densities]\n",
        "fock_data['state_parameter'] = fock_batch.params\n",
        "print(\"Fock data generated\")\n",
        "\n",
        "coherent_densities = [qst.data.mixed_state_noise(dm, mixed_state_noise_noise_level) for dm in coherent_batch.density_matrices()]\n",
        "coherent_data['label'] = ['coherent']*len(coherent_densities)\n",
        "coherent_data['density_matrix'] = [dm.full() for dm in coherent_densities]\n",
        "coherent_data['Husimi-Q_function'] = [qst.data.apply_measurement_noise(qt.qfunc(dm, xgrid, pgrid), affine_theta, affine_x, affine_y, additive_Gaussian_stddev, salt_and_pepper_prob) for dm in coherent_densities]\n",
        "coherent_data['state_parameter'] = coherent_batch.params\n",
        "print(\"Coherent data generated\")\n",
        "\n",
        "thermal_densities = [qst.data.mixed_state_noise(dm, mixed_state_noise_noise_level) for dm in thermal_batch.density_matrices()]\n",
        "thermal_data['label'] = ['thermal']*len(thermal_densities)\n",
        "thermal_data['density_matrix'] = [dm.full() for dm in thermal_densities]\n",
        "thermal_data['Husimi-Q_function'] = [qst.data.apply_measurement_noise(qt.qfunc(dm, xgrid, pgrid), affine_theta, affine_x, affine_y, additive_Gaussian_stddev, salt_and_pepper_prob) for dm in thermal_densities]\n",
        "thermal_data['state_parameter'] = thermal_batch.params\n",
        "print(\"Thermal data generated\")\n",
        "\n",
        "num_densities = [qst.data.mixed_state_noise(dm, mixed_state_noise_noise_level) for dm in num_batch.density_matrices()]\n",
        "num_data['label'] = ['num']*len(num_densities)\n",
        "num_data['density_matrix'] = [dm.full() for dm in num_densities]\n",
        "num_data['Husimi-Q_function'] = [qst.data.apply_measurement_noise(qt.qfunc(dm, xgrid, pgrid), affine_theta, affine_x, affine_y, additive_Gaussian_stddev, salt_and_pepper_prob) for dm in num_densities]\n",
        "num_data['state_parameter'] = num_batch.params\n",
        "print(\"Num data generated\")\n",
        "\n",
        "binomial_densities = [qst.data.mixed_state_noise(dm, mixed_state_noise_noise_level) for dm in binomial_batch.density_matrices()]\n",
        "binomial_data['label'] = ['binomial']*len(binomial_densities)\n",
        "binomial_data['density_matrix'] = [dm.full() for dm in binomial_densities]\n",
        "binomial_data['Husimi-Q_function'] = [qst.data.apply_measurement_noise(qt.qfunc(dm, xgrid, pgrid), affine_theta, affine_x, affine_y, additive_Gaussian_stddev, salt_and_pepper_prob) for dm in binomial_densities]\n",
        "binomial_data['state_parameter'] = binomial_batch.params\n",
        "print(\"Binomial data generated\")\n",
        "\n",
        "cat_densities = [qst.data.mixed_state_noise(dm, mixed_state_noise_noise_level) for dm in cat_batch.density_matrices()]\n",
        "cat_data['label'] = ['cat']*len(cat_densities)\n",
        "cat_data['density_matrix'] = [dm.full() for dm in cat_densities]\n",
        "cat_data['Husimi-Q_function'] = [qst.data.apply_measurement_noise(qt.qfunc(dm, xgrid, pgrid), affine_theta, affine_x, affine_y, additive_Gaussian_stddev, salt_and_pepper_prob) for dm in cat_densities]\n",
        "cat_data['state_parameter'] = cat_batch.params\n",
        "print(\"Cat data generated\")\n",
        "\n",
        "random_densities = [qst.data.mixed_state_noise(dm, mixed_state_noise_noise_level) for dm in random_batch.density_matrices()]\n",
        "random_data['label'] = ['random']*len(random_densities)\n",
        "random_data['density_matrix'] = [dm.full() for dm in random_densities]\n",
        "random_data['Husimi-Q_function'] = [qst.data.apply_measurement_noise(qt.qfunc(dm, xgrid, pgrid), affine_theta, affine_x, affine_y, additive_Gaussian_stddev, salt_and_pepper_prob) for dm in random_densities]\n",
        "random_data['state_parameter'] = random_batch.params\n",
        "print(\"Random data generated\")\n",
        "\n",
        "data = pd.concat([fock_data, coherent_data, thermal_data, num_data, binomial_data, cat_data, random_data])\n",
        "data = data.sample(frac=1).reset_index(drop=True)\n",
        "print(\"Dataset generated\")"
      ],
      "metadata": {
        "id": "bxw07CIxWPST",
        "outputId": "e1e8a840-a6ef-4407-9fcc-6470728a6b07",
        "colab": {
          "base_uri": "https://localhost:8080/"
        }
      },
      "execution_count": 6,
      "outputs": [
        {
          "output_type": "stream",
          "name": "stdout",
          "text": [
            "DataFrames initialised\n",
            "Fock data generated\n",
            "Coherent data generated\n",
            "Thermal data generated\n",
            "Num data generated\n",
            "Binomial data generated\n",
            "Cat data generated\n",
            "Random data generated\n",
            "Dataset generated\n"
          ]
        }
      ]
    },
    {
      "cell_type": "markdown",
      "source": [
        "Alternatively, QSTToolkit provides the `optical_state_dataset()` function which produces the above dataset in one function, which is intended to be used as a stamdardised dataset for training models:"
      ],
      "metadata": {
        "id": "v5korUIxcIk0"
      }
    },
    {
      "cell_type": "code",
      "source": [
        "data = qst.data.optical_state_dataset(dim=32, latent_dim=32)"
      ],
      "metadata": {
        "id": "7jxmjFXSWc0B",
        "outputId": "db0e7a95-7e3b-4b1a-f4ac-0a4551b7159b",
        "colab": {
          "base_uri": "https://localhost:8080/"
        }
      },
      "execution_count": 7,
      "outputs": [
        {
          "output_type": "stream",
          "name": "stderr",
          "text": [
            "/usr/local/lib/python3.10/dist-packages/qsttoolkit/data/state_batches.py:149: UserWarning: thermal states are currently initialised as density matrices. Calling the product of the .density_matrices() method is equivalent to simply calling .states() attribute. This may change in the future.\n",
            "  warnings.warn(\"thermal states are currently initialised as density matrices. Calling the product of the .density_matrices() method is equivalent to simply calling .states() attribute. This may change in the future.\")\n",
            "/usr/local/lib/python3.10/dist-packages/qsttoolkit/data/state_batches.py:333: UserWarning: Random states are currently initialised as density matrices. Calling the product of the .density_matrices() method is equivalent to simply calling .states() attribute. This may change in the future.\n",
            "  warnings.warn(\"Random states are currently initialised as density matrices. Calling the product of the .density_matrices() method is equivalent to simply calling .states() attribute. This may change in the future.\")\n"
          ]
        },
        {
          "output_type": "stream",
          "name": "stdout",
          "text": [
            "States generated\n",
            "DataFrames initialised\n",
            "Fock data generated\n",
            "Coherent data generated\n",
            "Thermal data generated\n",
            "Num data generated\n",
            "Binomial data generated\n",
            "Cat data generated\n",
            "Random data generated\n",
            "Dataset generated\n"
          ]
        }
      ]
    },
    {
      "cell_type": "markdown",
      "source": [
        "## Modelling"
      ],
      "metadata": {
        "id": "SL0sCwjXl0rH"
      }
    },
    {
      "cell_type": "markdown",
      "source": [
        "Data preprocessing:"
      ],
      "metadata": {
        "id": "8Q9NM6uchtqr"
      }
    },
    {
      "cell_type": "code",
      "source": [
        "X = data['Husimi-Q_function']\n",
        "y_raw = data['label']\n",
        "label_encoder = LabelEncoder()\n",
        "y_int = label_encoder.fit_transform(y_raw)\n",
        "X_train, X_test, y_train, y_test = train_test_split(X, y_int, test_size=0.2, random_state=42)\n",
        "latent_dim = X_train[0].shape[0]\n",
        "X_train = np.array([x for x in X_train]).reshape(-1, latent_dim, latent_dim, 1)\n",
        "X_test = np.array([x for x in X_test]).reshape(-1, latent_dim, latent_dim, 1)"
      ],
      "metadata": {
        "id": "eF6MbBrOhmso"
      },
      "execution_count": 8,
      "outputs": []
    },
    {
      "cell_type": "markdown",
      "source": [
        "We create an instance of the `qsttoolkit.tomography.CNNQuantumStateDiscrimination` class, which handles the model architecture, compiling and training:"
      ],
      "metadata": {
        "id": "-sZiQ7qYclej"
      }
    },
    {
      "cell_type": "code",
      "source": [
        "state_discriminator = qst.tomography.CNNQuantumStateDiscrimination(dim=32,\n",
        "                                                                   X_train=X_train,\n",
        "                                                                   X_test=X_test,\n",
        "                                                                   y_train=y_train,\n",
        "                                                                   y_test=y_test,\n",
        "                                                                   label_encoder=label_encoder,\n",
        "                                                                   early_stopping_patience=3,\n",
        "                                                                   lr_scheduler_factor=0.5,\n",
        "                                                                   lr_scheduler_patience=2)"
      ],
      "metadata": {
        "id": "RvovCfN1RJLQ"
      },
      "execution_count": 9,
      "outputs": []
    },
    {
      "cell_type": "markdown",
      "source": [
        "Model compiling and training using the `.train` method:"
      ],
      "metadata": {
        "id": "w1kDpDsjdwaV"
      }
    },
    {
      "cell_type": "code",
      "source": [
        "state_discriminator.train(optimizer='adam',\n",
        "                          loss='sparse_categorical_crossentropy',\n",
        "                          metrics=['accuracy'],\n",
        "                          epochs=20,\n",
        "                          batch_size=32,\n",
        "                          validation_split=0.2)"
      ],
      "metadata": {
        "id": "tmWIBI4hUJeH",
        "outputId": "c553bebb-1c72-4e82-e199-0a334b8d13b8",
        "colab": {
          "base_uri": "https://localhost:8080/"
        }
      },
      "execution_count": 10,
      "outputs": [
        {
          "output_type": "stream",
          "name": "stdout",
          "text": [
            "Epoch 1/20\n",
            "140/140 [==============================] - 3s 15ms/step - loss: 1.4828 - accuracy: 0.4268 - val_loss: 0.9235 - val_accuracy: 0.6911 - lr: 0.0010\n",
            "Epoch 2/20\n",
            "140/140 [==============================] - 2s 14ms/step - loss: 0.7765 - accuracy: 0.7295 - val_loss: 0.5879 - val_accuracy: 0.8018 - lr: 0.0010\n",
            "Epoch 3/20\n",
            "140/140 [==============================] - 2s 15ms/step - loss: 0.6028 - accuracy: 0.7946 - val_loss: 0.4842 - val_accuracy: 0.8196 - lr: 0.0010\n",
            "Epoch 4/20\n",
            "140/140 [==============================] - 2s 14ms/step - loss: 0.5000 - accuracy: 0.8217 - val_loss: 0.5108 - val_accuracy: 0.8161 - lr: 0.0010\n",
            "Epoch 5/20\n",
            "140/140 [==============================] - 2s 16ms/step - loss: 0.4400 - accuracy: 0.8433 - val_loss: 0.3277 - val_accuracy: 0.8875 - lr: 0.0010\n",
            "Epoch 6/20\n",
            "140/140 [==============================] - 2s 14ms/step - loss: 0.3738 - accuracy: 0.8710 - val_loss: 0.2991 - val_accuracy: 0.9018 - lr: 0.0010\n",
            "Epoch 7/20\n",
            "140/140 [==============================] - 2s 15ms/step - loss: 0.3081 - accuracy: 0.8991 - val_loss: 0.2602 - val_accuracy: 0.9018 - lr: 0.0010\n",
            "Epoch 8/20\n",
            "140/140 [==============================] - 2s 14ms/step - loss: 0.2881 - accuracy: 0.9033 - val_loss: 0.2805 - val_accuracy: 0.9080 - lr: 0.0010\n",
            "Epoch 9/20\n",
            "140/140 [==============================] - 2s 15ms/step - loss: 0.2650 - accuracy: 0.9074 - val_loss: 0.3477 - val_accuracy: 0.8687 - lr: 0.0010\n",
            "Epoch 10/20\n",
            "140/140 [==============================] - 2s 15ms/step - loss: 0.2088 - accuracy: 0.9297 - val_loss: 0.1910 - val_accuracy: 0.9304 - lr: 5.0000e-04\n",
            "Epoch 11/20\n",
            "140/140 [==============================] - 2s 14ms/step - loss: 0.1870 - accuracy: 0.9321 - val_loss: 0.1850 - val_accuracy: 0.9420 - lr: 5.0000e-04\n",
            "Epoch 12/20\n",
            "140/140 [==============================] - 2s 14ms/step - loss: 0.1880 - accuracy: 0.9333 - val_loss: 0.1996 - val_accuracy: 0.9268 - lr: 5.0000e-04\n",
            "Epoch 13/20\n",
            "140/140 [==============================] - 2s 14ms/step - loss: 0.1932 - accuracy: 0.9333 - val_loss: 0.1887 - val_accuracy: 0.9304 - lr: 5.0000e-04\n",
            "Epoch 14/20\n",
            "140/140 [==============================] - 2s 14ms/step - loss: 0.1534 - accuracy: 0.9467 - val_loss: 0.1561 - val_accuracy: 0.9491 - lr: 2.5000e-04\n",
            "Epoch 15/20\n",
            "140/140 [==============================] - 2s 14ms/step - loss: 0.1509 - accuracy: 0.9478 - val_loss: 0.1656 - val_accuracy: 0.9429 - lr: 2.5000e-04\n",
            "Epoch 16/20\n",
            "140/140 [==============================] - 2s 15ms/step - loss: 0.1521 - accuracy: 0.9473 - val_loss: 0.1507 - val_accuracy: 0.9545 - lr: 2.5000e-04\n",
            "Epoch 17/20\n",
            "140/140 [==============================] - 2s 14ms/step - loss: 0.1439 - accuracy: 0.9482 - val_loss: 0.1639 - val_accuracy: 0.9446 - lr: 2.5000e-04\n",
            "Epoch 18/20\n",
            "140/140 [==============================] - 2s 14ms/step - loss: 0.1401 - accuracy: 0.9545 - val_loss: 0.1643 - val_accuracy: 0.9438 - lr: 2.5000e-04\n",
            "Epoch 19/20\n",
            "140/140 [==============================] - 2s 14ms/step - loss: 0.1265 - accuracy: 0.9569 - val_loss: 0.1516 - val_accuracy: 0.9420 - lr: 1.2500e-04\n"
          ]
        }
      ]
    },
    {
      "cell_type": "markdown",
      "source": [
        "## Analysis and Evaluation"
      ],
      "metadata": {
        "id": "8eTr03_8l7TE"
      }
    },
    {
      "cell_type": "markdown",
      "source": [
        "Inspection of accuracy and loss over training epochs:"
      ],
      "metadata": {
        "id": "QhGtY0dwkw21"
      }
    },
    {
      "cell_type": "code",
      "source": [
        "state_discriminator.plot_training()"
      ],
      "metadata": {
        "id": "6dCWaRjli6bp",
        "outputId": "3d361e71-6ee3-4ee9-f888-f374329f490c",
        "colab": {
          "base_uri": "https://localhost:8080/",
          "height": 487
        }
      },
      "execution_count": 11,
      "outputs": [
        {
          "output_type": "display_data",
          "data": {
            "text/plain": [
              "<Figure size 1400x500 with 2 Axes>"
            ],
            "image/png": "[encoded data removed]"
          },
          "metadata": {}
        }
      ]
    },
    {
      "cell_type": "markdown",
      "source": [
        "Model evaluation:"
      ],
      "metadata": {
        "id": "Y_mMPJtQk2-L"
      }
    },
    {
      "cell_type": "code",
      "source": [
        "state_discriminator.evaluate_classification(include_confusion_matrix=True, include_classification_report=True)"
      ],
      "metadata": {
        "id": "10ha0PrfjLJs",
        "outputId": "4fe6c6bf-55be-44c2-9b18-4a2be06ac914",
        "colab": {
          "base_uri": "https://localhost:8080/",
          "height": 750
        }
      },
      "execution_count": 12,
      "outputs": [
        {
          "output_type": "stream",
          "name": "stdout",
          "text": [
            "44/44 [==============================] - 0s 4ms/step\n"
          ]
        },
        {
          "output_type": "display_data",
          "data": {
            "text/plain": [
              "<Figure size 640x480 with 2 Axes>"
            ],
            "image/png": "[encoded data removed]"
          },
          "metadata": {}
        },
        {
          "output_type": "stream",
          "name": "stdout",
          "text": [
            "Classification Report:\n",
            "              precision    recall  f1-score   support\n",
            "\n",
            "           0       0.96      0.96      0.96       212\n",
            "           1       0.88      0.77      0.82       190\n",
            "           2       0.99      0.91      0.95       196\n",
            "           3       0.84      0.96      0.90       198\n",
            "           4       1.00      0.99      0.99       213\n",
            "           5       0.94      1.00      0.97       189\n",
            "           6       0.96      0.96      0.96       202\n",
            "\n",
            "    accuracy                           0.94      1400\n",
            "   macro avg       0.94      0.93      0.93      1400\n",
            "weighted avg       0.94      0.94      0.94      1400\n",
            "\n"
          ]
        }
      ]
    },
    {
      "cell_type": "markdown",
      "source": [
        "Built-in `.classify` method to classify given input measurements and invert the label encoding, returning simply an array of label strings:"
      ],
      "metadata": {
        "id": "c8EnrtT6k8fx"
      }
    },
    {
      "cell_type": "code",
      "source": [
        "print(state_discriminator.classify(X_test))"
      ],
      "metadata": {
        "id": "qCAzlhrgjQ0M",
        "outputId": "7bdb08f9-cf0c-4e54-80e8-5a028f229c9e",
        "colab": {
          "base_uri": "https://localhost:8080/"
        }
      },
      "execution_count": 13,
      "outputs": [
        {
          "output_type": "stream",
          "name": "stdout",
          "text": [
            "44/44 [==============================] - 0s 4ms/step\n",
            "['fock' 'binomial' 'thermal' ... 'num' 'random' 'coherent']\n"
          ]
        }
      ]
    },
    {
      "cell_type": "markdown",
      "source": [
        "`CNNQuantumStateDiscrimination.model` can be treated as a `tensorflow.keras.Model` object, for example:"
      ],
      "metadata": {
        "id": "FS6w80z4kRkW"
      }
    },
    {
      "cell_type": "code",
      "source": [
        "state_discriminator.model.summary()"
      ],
      "metadata": {
        "id": "VbAIeONej9DK",
        "outputId": "91e7ed8c-6e59-4d83-8e9b-58ceb11cb4a4",
        "colab": {
          "base_uri": "https://localhost:8080/"
        }
      },
      "execution_count": 14,
      "outputs": [
        {
          "output_type": "stream",
          "name": "stdout",
          "text": [
            "Model: \"model\"\n",
            "_________________________________________________________________\n",
            " Layer (type)                Output Shape              Param #   \n",
            "=================================================================\n",
            " input_1 (InputLayer)        [(None, 32, 32, 1)]       0         \n",
            "                                                                 \n",
            " conv2d (Conv2D)             (None, 30, 30, 32)        320       \n",
            "                                                                 \n",
            " max_pooling2d (MaxPooling2D  (None, 15, 15, 32)       0         \n",
            " )                                                               \n",
            "                                                                 \n",
            " conv2d_1 (Conv2D)           (None, 13, 13, 64)        18496     \n",
            "                                                                 \n",
            " max_pooling2d_1 (MaxPooling  (None, 6, 6, 64)         0         \n",
            " 2D)                                                             \n",
            "                                                                 \n",
            " conv2d_2 (Conv2D)           (None, 4, 4, 128)         73856     \n",
            "                                                                 \n",
            " max_pooling2d_2 (MaxPooling  (None, 2, 2, 128)        0         \n",
            " 2D)                                                             \n",
            "                                                                 \n",
            " flatten (Flatten)           (None, 512)               0         \n",
            "                                                                 \n",
            " dense (Dense)               (None, 128)               65664     \n",
            "                                                                 \n",
            " dense_1 (Dense)             (None, 7)                 903       \n",
            "                                                                 \n",
            "=================================================================\n",
            "Total params: 159,239\n",
            "Trainable params: 159,239\n",
            "Non-trainable params: 0\n",
            "_________________________________________________________________\n"
          ]
        }
      ]
    }
  ],
  "metadata": {
    "kernelspec": {
      "display_name": "Python 3",
      "name": "python3"
    },
    "language_info": {
      "name": "python",
      "version": "3.9.18"
    },
    "colab": {
      "provenance": [],
      "machine_shape": "hm",
      "gpuType": "T4"
    },
    "accelerator": "GPU"
  },
  "nbformat": 4,
  "nbformat_minor": 0
}